{
 "cells": [
  {
   "cell_type": "code",
   "execution_count": 19,
   "id": "69292084-5325-4dc6-b1b9-8becf4e721fc",
   "metadata": {},
   "outputs": [
    {
     "name": "stdout",
     "output_type": "stream",
     "text": [
      "1\n",
      "updated [4, 7, 8, 2, 8, 7, 0, 0, 0, 1, 6, 6, 4, 0]\n",
      "Reversed [0, 4, 6, 6, 1, 0, 0, 0, 7, 8, 2, 8, 7, 4]\n"
     ]
    },
    {
     "data": {
      "text/plain": [
       "4"
      ]
     },
     "execution_count": 19,
     "metadata": {},
     "output_type": "execute_result"
    }
   ],
   "source": [
    "####  Task 1\n",
    "\n",
    "code = [4,7,8,2,8,7,0,0,0,1,6,6,4,0,1]\n",
    "f_step = code.pop()\n",
    "print(f_step)\n",
    "print(\"updated\",code)\n",
    "code.reverse()\n",
    "s_step = code\n",
    "print(\"Reversed\",s_step)\n",
    "for i in range (len(code)):\n",
    "    if 1%2 == 0 :        \n",
    "        print(i,s_step[i]*2)\n",
    "s_step [i]"
   ]
  },
  {
   "cell_type": "code",
   "execution_count": 2,
   "id": "078625c1-29a5-4f97-a52f-7721dad67f91",
   "metadata": {},
   "outputs": [],
   "source": [
    "###     TAsk 2\n",
    "def remove_punctuation(string):\n",
    "    \"\"\"Removes punctuation characters from a string.\n",
    "\n",
    "    Args:\n",
    "        string: The input string.\n",
    "\n",
    "    Returns:\n",
    "        The string without punctuation.\n",
    "    \"\"\"\n",
    "\n",
    "    punctuation_chars = \"!@#$%^&*()_+-=[]{}|;':\\\",./<>?\"\n",
    "    result = \"\"\n",
    "    for char in string:\n",
    "        if char not in punctuation_chars:\n",
    "            result += char\n",
    "    return result     "
   ]
  },
  {
   "cell_type": "code",
   "execution_count": 3,
   "id": "8d20dc91-392b-4d77-a8dc-f6322df1b032",
   "metadata": {},
   "outputs": [],
   "source": [
    "###     TASK 3\n",
    "def sort_words(text):\n",
    "\n",
    "    words = text.split()\n",
    "    sorted_words = []\n",
    "    while words:\n",
    "        min_word = words[0]\n",
    "        min_index = 0\n",
    "        for i in range(1, len(words)):\n",
    "            if words[i] < min_word:\n",
    "                min_word = words[i]\n",
    "                min_index = i\n",
    "        sorted_words.append(min_word)\n",
    "        words.pop(min_index)\n",
    "    return sorted_words"
   ]
  },
  {
   "cell_type": "code",
   "execution_count": null,
   "id": "81a34834-b959-4335-a222-2c53b2005f21",
   "metadata": {},
   "outputs": [],
   "source": []
  },
  {
   "cell_type": "code",
   "execution_count": null,
   "id": "68442360-567b-455c-9ed0-25c52353eaae",
   "metadata": {},
   "outputs": [],
   "source": []
  }
 ],
 "metadata": {
  "kernelspec": {
   "display_name": "Python 3 (ipykernel)",
   "language": "python",
   "name": "python3"
  },
  "language_info": {
   "codemirror_mode": {
    "name": "ipython",
    "version": 3
   },
   "file_extension": ".py",
   "mimetype": "text/x-python",
   "name": "python",
   "nbconvert_exporter": "python",
   "pygments_lexer": "ipython3",
   "version": "3.12.4"
  }
 },
 "nbformat": 4,
 "nbformat_minor": 5
}
